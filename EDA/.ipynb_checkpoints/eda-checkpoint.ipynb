{
 "cells": [
  {
   "cell_type": "code",
   "execution_count": 1,
   "metadata": {},
   "outputs": [],
   "source": [
    "import pandas as pd\n",
    "from keybert import KeyBERT\n",
    "from tqdm import tqdm\n",
    "from pandasgui import show\n",
    "import stylecloud"
   ]
  },
  {
   "cell_type": "code",
   "execution_count": 120,
   "metadata": {},
   "outputs": [],
   "source": [
    "with open('stopwords.txt', 'r', encoding='utf-8') as file:\n",
    "    stop_words = file.read().split('\\n')\n",
    "stop_words = [x.strip() for x in stop_words]"
   ]
  },
  {
   "cell_type": "code",
   "execution_count": 3,
   "metadata": {},
   "outputs": [],
   "source": [
    "df = pd.read_json(r'C:\\Users\\heylu\\Documents\\github\\noticias-FVS-AM\\scrapping\\noticias.json', lines=True)"
   ]
  },
  {
   "cell_type": "code",
   "execution_count": 20,
   "metadata": {},
   "outputs": [],
   "source": [
    "#model = KeyBERT('distiluse-base-multilingual-cased-v1')"
   ]
  },
  {
   "cell_type": "code",
   "execution_count": 36,
   "metadata": {},
   "outputs": [
    {
     "name": "stderr",
     "output_type": "stream",
     "text": []
    }
   ],
   "source": [
    "#res = []\n",
    "#for sentence in tqdm(df['titulo'], leave=False):\n",
    "#    keywords = model.extract_keywords(sentence, keyphrase_ngram_range=(3, 4), stop_words=stop_words, use_mmr=True, diversity=0.7, top_n=1)\n",
    "#    res.append(keywords)\n",
    "#res = pd.Series(res)"
   ]
  },
  {
   "cell_type": "code",
   "execution_count": 35,
   "metadata": {},
   "outputs": [],
   "source": [
    "def norm_keywords(x):\n",
    "    dici = {\n",
    "        'Febre amarela': ['febre amarela'],\n",
    "        'Cloroquina': ['cloroquina'],\n",
    "        'Dengue': ['aedes', 'aegypti', 'dengue'],\n",
    "        'Vacina para Covid-19': ['vacina', 'dose', 'doses', 'vacinas', 'vacinação', 'vacinaram', 'auditoria', 'já completou 30 municípios', 'imunizados', 'imunização'],\n",
    "        'Pessoas recuperadas': ['recuperados', 'recuperadas', 'neste domingo', 'sexta feira 17 07', 'altas médicas'] ,\n",
    "        'Cenário epidomiológico': ['epidemiológico', 'epidemiológica', 'nesta sexta feira 19', 'amazonas atualizado', 'variantes', 'variante', 'panorama da covid 19', 'reinfecção', 'boletim', 'covid 19 no amazonas', 'situação da', 'municípios', 'estado', 'atualizados', 'amazonas neste', 'nesta quarta feira', 'restrições', 'wilson lima', 'combate ao', 'investigação ao novo coronavírus', 'medidas', 'monitora', 'monitoramento', 'informações oficiais', 'divulgado', 'cenário da covid-19', 'balanco da covid-19', 'enfrentamento a covid-19', 'enfrentamento à covid-19', 'cenário do novo coronavírus', 'atualização da covid-19', 'dados da pandemia'],\n",
    "        'Novos casos de Covid-19': ['total de casos', 'número de casos', 'novos casos', 'confirmados', 'casos', 'amazonas contabiliza', 'amazonas chegam', 'ultrapassam', 'novos dados', 'pessoas', 'caso do novo', 'graves do novo', 'caso de covid-19', 'cenários da covid-19', 'panorama da covid-19', 'taxa de transmissão'],\n",
    "        'Suspeita de Covid-19': ['suspeita', 'suspeito', 'suspeitos', 'dados da covid-19'],\n",
    "        'Testes a Covid-19': ['testes', 'teste', 'dão negativo', 'dão positivo', 'dá positivo', 'dá negativo', 'detecção de covid-19', 'testagem'],\n",
    "        'Prevenção a Covid-19': ['prevenção', 'propagação de covid-19', 'epis', 'enfrentamento a covid-19'],\n",
    "        'Morte por Covid-19': ['mortes por corona virus', 'mortes por covid 19', 'mortes pelo novo corona virus', 'mortes', 'mortos', 'óbitos', 'morte', 'óbito'],\n",
    "        'Influenza': ['influenza'],\n",
    "        'Estabelecimentos, eventos & festas clandestinas': ['estabelecimento', 'estabelecimentos', 'festas', 'bar', 'pessoas na zona', 'bares', 'festa', 'festas', 'clandestinas', 'clandestina', 'pessoas nas ruas', 'supermercados', 'supermercado', 'regionais', 'flagradas', 'flagrado', 'fiscalização', 'locais', 'local', 'bebida', 'bebidas', 'pessoas no', 'protocolo', 'escola', 'escolas', 'professores', 'vistoria', 'vistorias', 'transporte', 'não essenciais', 'não essencial', 'ensino privado', 'restaurantes', 'aglomerações', 'funcionamento de serviços', 'evento', 'eventos'],\n",
    "        'Malária': ['malária', 'mais de 300 pacientes'],\n",
    "        'Tuberculose': ['tuberculose']\n",
    "    }\n",
    "    for key, value in dici.items():\n",
    "        for y in value:\n",
    "            if y in x.lower():\n",
    "                return key\n",
    "    return float('NaN')"
   ]
  },
  {
   "cell_type": "code",
   "execution_count": 36,
   "metadata": {},
   "outputs": [],
   "source": [
    "df['palavra-chave'] = df['titulo'].apply(norm_keywords)"
   ]
  },
  {
   "cell_type": "code",
   "execution_count": 121,
   "metadata": {},
   "outputs": [],
   "source": [
    "txt = ''\n",
    "for x in df['titulo']:\n",
    "    txt += x + \" \""
   ]
  },
  {
   "cell_type": "code",
   "execution_count": 122,
   "metadata": {},
   "outputs": [],
   "source": [
    "txt = txt.split()"
   ]
  },
  {
   "cell_type": "code",
   "execution_count": 124,
   "metadata": {},
   "outputs": [],
   "source": [
    "for word in stop_words:\n",
    "    while word in txt:\n",
    "        txt.remove(word)"
   ]
  },
  {
   "cell_type": "code",
   "execution_count": 126,
   "metadata": {},
   "outputs": [],
   "source": [
    "txt = \" \".join(x for x in txt)"
   ]
  },
  {
   "cell_type": "code",
   "execution_count": 128,
   "metadata": {},
   "outputs": [],
   "source": [
    "with open('stylecloud.txt', 'w', encoding='utf-8') as file:\n",
    "    file.write(txt)"
   ]
  },
  {
   "cell_type": "code",
   "execution_count": null,
   "metadata": {},
   "outputs": [],
   "source": [
    "stylecloud.gen_stylecloud(file_path='stylecloud.txt', \n",
    "                          stopwords=stop_words,  \n",
    "                          gradient='vertical', \n",
    "                          size=1920, \n",
    "                          icon_name='fas fa-lungs',\n",
    "                          random_state=42)"
   ]
  },
  {
   "cell_type": "code",
   "execution_count": 26,
   "metadata": {},
   "outputs": [
    {
     "data": {
      "text/plain": [
       "Cenário epidomiológico                                                                                    0.269492\n",
       "Vacina para Covid-19                                                                                      0.202542\n",
       "Novos casos de Covid-19                                                                                   0.147458\n",
       "Pessoas recuperadas                                                                                       0.090678\n",
       "Estabelecimentos, eventos & festas clandestinas                                                           0.059322\n",
       "                                                                                                            ...   \n",
       "Governo do Amazonas prestou informações sobre ações de enfrentamento ao coronavírus à Justiça Federal     0.000847\n",
       "FVS-AM alerta para sazonalidade de SRAG a partir da ocorrência de chuvas em Manaus                        0.000847\n",
       "Amazonas recebe mais 13 profissionais da saúde enviados pelo Governo Federal para o combate à Covid-19    0.000847\n",
       "SES e FVS apresentam programa ‘Saúde Amazonas’ para o Governo Federal                                     0.000847\n",
       "Nota de Pesar: Silvano de Souza Fonseca                                                                   0.000847\n",
       "Name: palavra-chave, Length: 167, dtype: float64"
      ]
     },
     "execution_count": 26,
     "metadata": {},
     "output_type": "execute_result"
    }
   ],
   "source": [
    "df['palavra-chave'].value_counts() / len(df)"
   ]
  },
  {
   "cell_type": "code",
   "execution_count": 33,
   "metadata": {},
   "outputs": [],
   "source": [
    "df['data'] = [x[:x.index('-') - 1] for x in df['data']]"
   ]
  },
  {
   "cell_type": "code",
   "execution_count": 39,
   "metadata": {},
   "outputs": [],
   "source": [
    "df = df[['data','titulo', 'palavra-chave', 'link']]"
   ]
  },
  {
   "cell_type": "code",
   "execution_count": 42,
   "metadata": {},
   "outputs": [
    {
     "data": {
      "text/html": [
       "<div>\n",
       "<style scoped>\n",
       "    .dataframe tbody tr th:only-of-type {\n",
       "        vertical-align: middle;\n",
       "    }\n",
       "\n",
       "    .dataframe tbody tr th {\n",
       "        vertical-align: top;\n",
       "    }\n",
       "\n",
       "    .dataframe thead th {\n",
       "        text-align: right;\n",
       "    }\n",
       "</style>\n",
       "<table border=\"1\" class=\"dataframe\">\n",
       "  <thead>\n",
       "    <tr style=\"text-align: right;\">\n",
       "      <th></th>\n",
       "      <th>data</th>\n",
       "      <th>titulo</th>\n",
       "      <th>palavra-chave</th>\n",
       "      <th>link</th>\n",
       "    </tr>\n",
       "  </thead>\n",
       "  <tbody>\n",
       "    <tr>\n",
       "      <th>0</th>\n",
       "      <td>19 Mai 2021</td>\n",
       "      <td>Cenário Epidemiológico da Covid-19 no Amazonas...</td>\n",
       "      <td>Cenário epidomiológico</td>\n",
       "      <td>https://www.fvs.am.gov.br/noticias/noticias_vi...</td>\n",
       "    </tr>\n",
       "    <tr>\n",
       "      <th>1</th>\n",
       "      <td>19 Mai 2021</td>\n",
       "      <td>FVS informa a aplicação de 1.084.463 doses de ...</td>\n",
       "      <td>Vacina para Covid-19</td>\n",
       "      <td>https://www.fvs.am.gov.br/noticias/noticias_vi...</td>\n",
       "    </tr>\n",
       "    <tr>\n",
       "      <th>2</th>\n",
       "      <td>19 Mai 2021</td>\n",
       "      <td>Governo do Amazonas recebe mais 56.060 doses d...</td>\n",
       "      <td>Vacina para Covid-19</td>\n",
       "      <td>https://www.fvs.am.gov.br/noticias/noticias_vi...</td>\n",
       "    </tr>\n",
       "    <tr>\n",
       "      <th>3</th>\n",
       "      <td>18 Mai 2021</td>\n",
       "      <td>Painel de Vacina do Amazonas informa a aplicaç...</td>\n",
       "      <td>Vacina para Covid-19</td>\n",
       "      <td>https://www.fvs.am.gov.br/noticias/noticias_vi...</td>\n",
       "    </tr>\n",
       "    <tr>\n",
       "      <th>4</th>\n",
       "      <td>18 Mai 2021</td>\n",
       "      <td>Situação Epidemiológica da Covid-19 no Amazona...</td>\n",
       "      <td>Cenário epidomiológico</td>\n",
       "      <td>https://www.fvs.am.gov.br/noticias/noticias_vi...</td>\n",
       "    </tr>\n",
       "    <tr>\n",
       "      <th>...</th>\n",
       "      <td>...</td>\n",
       "      <td>...</td>\n",
       "      <td>...</td>\n",
       "      <td>...</td>\n",
       "    </tr>\n",
       "    <tr>\n",
       "      <th>1175</th>\n",
       "      <td>17 Jan 2020</td>\n",
       "      <td>Amazonas recebe mais 27 mil doses de pentavalente</td>\n",
       "      <td>Vacina para Covid-19</td>\n",
       "      <td>https://www.fvs.am.gov.br/noticias/noticias_vi...</td>\n",
       "    </tr>\n",
       "    <tr>\n",
       "      <th>1176</th>\n",
       "      <td>17 Jan 2020</td>\n",
       "      <td>Em menos de três meses, mais de 80 casos de Sí...</td>\n",
       "      <td>Novos casos de Covid-19</td>\n",
       "      <td>https://www.fvs.am.gov.br/noticias/noticias_vi...</td>\n",
       "    </tr>\n",
       "    <tr>\n",
       "      <th>1177</th>\n",
       "      <td>17 Jan 2020</td>\n",
       "      <td>Ministério da Saúde faz alerta sobre febre ama...</td>\n",
       "      <td>Febre amarela</td>\n",
       "      <td>https://www.fvs.am.gov.br/noticias/noticias_vi...</td>\n",
       "    </tr>\n",
       "    <tr>\n",
       "      <th>1178</th>\n",
       "      <td>17 Jan 2020</td>\n",
       "      <td>Oficina prepara rede de saúde para o enfrentam...</td>\n",
       "      <td>NaN</td>\n",
       "      <td>https://www.fvs.am.gov.br/noticias/noticias_vi...</td>\n",
       "    </tr>\n",
       "    <tr>\n",
       "      <th>1179</th>\n",
       "      <td>16 Jan 2020</td>\n",
       "      <td>FVS-AM PROMOVE PROGRAMAÇÃO ALUSIVA DEDICADA À ...</td>\n",
       "      <td>NaN</td>\n",
       "      <td>https://www.fvs.am.gov.br/noticias/noticias_vi...</td>\n",
       "    </tr>\n",
       "  </tbody>\n",
       "</table>\n",
       "<p>1180 rows × 4 columns</p>\n",
       "</div>"
      ],
      "text/plain": [
       "             data                                             titulo  \\\n",
       "0     19 Mai 2021  Cenário Epidemiológico da Covid-19 no Amazonas...   \n",
       "1     19 Mai 2021  FVS informa a aplicação de 1.084.463 doses de ...   \n",
       "2     19 Mai 2021  Governo do Amazonas recebe mais 56.060 doses d...   \n",
       "3     18 Mai 2021  Painel de Vacina do Amazonas informa a aplicaç...   \n",
       "4     18 Mai 2021  Situação Epidemiológica da Covid-19 no Amazona...   \n",
       "...           ...                                                ...   \n",
       "1175  17 Jan 2020  Amazonas recebe mais 27 mil doses de pentavalente   \n",
       "1176  17 Jan 2020  Em menos de três meses, mais de 80 casos de Sí...   \n",
       "1177  17 Jan 2020  Ministério da Saúde faz alerta sobre febre ama...   \n",
       "1178  17 Jan 2020  Oficina prepara rede de saúde para o enfrentam...   \n",
       "1179  16 Jan 2020  FVS-AM PROMOVE PROGRAMAÇÃO ALUSIVA DEDICADA À ...   \n",
       "\n",
       "                palavra-chave  \\\n",
       "0      Cenário epidomiológico   \n",
       "1        Vacina para Covid-19   \n",
       "2        Vacina para Covid-19   \n",
       "3        Vacina para Covid-19   \n",
       "4      Cenário epidomiológico   \n",
       "...                       ...   \n",
       "1175     Vacina para Covid-19   \n",
       "1176  Novos casos de Covid-19   \n",
       "1177            Febre amarela   \n",
       "1178                      NaN   \n",
       "1179                      NaN   \n",
       "\n",
       "                                                   link  \n",
       "0     https://www.fvs.am.gov.br/noticias/noticias_vi...  \n",
       "1     https://www.fvs.am.gov.br/noticias/noticias_vi...  \n",
       "2     https://www.fvs.am.gov.br/noticias/noticias_vi...  \n",
       "3     https://www.fvs.am.gov.br/noticias/noticias_vi...  \n",
       "4     https://www.fvs.am.gov.br/noticias/noticias_vi...  \n",
       "...                                                 ...  \n",
       "1175  https://www.fvs.am.gov.br/noticias/noticias_vi...  \n",
       "1176  https://www.fvs.am.gov.br/noticias/noticias_vi...  \n",
       "1177  https://www.fvs.am.gov.br/noticias/noticias_vi...  \n",
       "1178  https://www.fvs.am.gov.br/noticias/noticias_vi...  \n",
       "1179  https://www.fvs.am.gov.br/noticias/noticias_vi...  \n",
       "\n",
       "[1180 rows x 4 columns]"
      ]
     },
     "execution_count": 42,
     "metadata": {},
     "output_type": "execute_result"
    }
   ],
   "source": [
    "df"
   ]
  },
  {
   "cell_type": "code",
   "execution_count": null,
   "metadata": {},
   "outputs": [],
   "source": []
  }
 ],
 "metadata": {
  "kernelspec": {
   "display_name": "Python [conda env:noticias-fvs-am]",
   "language": "python",
   "name": "conda-env-noticias-fvs-am-py"
  },
  "language_info": {
   "codemirror_mode": {
    "name": "ipython",
    "version": 3
   },
   "file_extension": ".py",
   "mimetype": "text/x-python",
   "name": "python",
   "nbconvert_exporter": "python",
   "pygments_lexer": "ipython3",
   "version": "3.7.10"
  }
 },
 "nbformat": 4,
 "nbformat_minor": 2
}
