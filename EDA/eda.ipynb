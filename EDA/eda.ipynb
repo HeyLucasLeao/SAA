{
 "metadata": {
  "language_info": {
   "codemirror_mode": {
    "name": "ipython",
    "version": 3
   },
   "file_extension": ".py",
   "mimetype": "text/x-python",
   "name": "python",
   "nbconvert_exporter": "python",
   "pygments_lexer": "ipython3",
   "version": "3.9.2"
  },
  "orig_nbformat": 2,
  "kernelspec": {
   "name": "python392jvsc74a57bd00f7703e3e47795acb7f9c32d74a72a5a297f91916251a2e902c397c8a0bcfb05",
   "display_name": "Python 3.9.2 64-bit ('nlp': conda)"
  }
 },
 "nbformat": 4,
 "nbformat_minor": 2,
 "cells": [
  {
   "cell_type": "code",
   "execution_count": 1,
   "metadata": {},
   "outputs": [],
   "source": [
    "import pandas as pd"
   ]
  },
  {
   "cell_type": "code",
   "execution_count": 3,
   "metadata": {},
   "outputs": [],
   "source": [
    "df = pd.read_json(r'C:\\Users\\heylu\\Documents\\github\\SAA\\scrapping\\noticias.json', lines=True)"
   ]
  },
  {
   "cell_type": "code",
   "execution_count": 7,
   "metadata": {},
   "outputs": [
    {
     "output_type": "execute_result",
     "data": {
      "text/plain": [
       "                                                 titulo  \\\n",
       "0     Cenário Epidemiológico da Covid-19 no Amazonas...   \n",
       "1     FVS informa a aplicação de 1.084.463 doses de ...   \n",
       "2     Governo do Amazonas recebe mais 56.060 doses d...   \n",
       "3     Painel de Vacina do Amazonas informa a aplicaç...   \n",
       "4     Situação Epidemiológica da Covid-19 no Amazona...   \n",
       "...                                                 ...   \n",
       "1175  Amazonas recebe mais 27 mil doses de pentavalente   \n",
       "1176  Em menos de três meses, mais de 80 casos de Sí...   \n",
       "1177  Ministério da Saúde faz alerta sobre febre ama...   \n",
       "1178  Oficina prepara rede de saúde para o enfrentam...   \n",
       "1179  FVS-AM PROMOVE PROGRAMAÇÃO ALUSIVA DEDICADA À ...   \n",
       "\n",
       "                        data  \\\n",
       "0     19 Mai 2021 - 06:30:05   \n",
       "1     19 Mai 2021 - 06:07:10   \n",
       "2     19 Mai 2021 - 07:16:24   \n",
       "3     18 Mai 2021 - 06:34:19   \n",
       "4     18 Mai 2021 - 06:28:45   \n",
       "...                      ...   \n",
       "1175  17 Jan 2020 - 07:47:37   \n",
       "1176  17 Jan 2020 - 02:46:10   \n",
       "1177  17 Jan 2020 - 02:38:40   \n",
       "1178  17 Jan 2020 - 12:49:21   \n",
       "1179  16 Jan 2020 - 08:04:03   \n",
       "\n",
       "                                                   link  \n",
       "0     https://www.fvs.am.gov.br/noticias/noticias_vi...  \n",
       "1     https://www.fvs.am.gov.br/noticias/noticias_vi...  \n",
       "2     https://www.fvs.am.gov.br/noticias/noticias_vi...  \n",
       "3     https://www.fvs.am.gov.br/noticias/noticias_vi...  \n",
       "4     https://www.fvs.am.gov.br/noticias/noticias_vi...  \n",
       "...                                                 ...  \n",
       "1175  https://www.fvs.am.gov.br/noticias/noticias_vi...  \n",
       "1176  https://www.fvs.am.gov.br/noticias/noticias_vi...  \n",
       "1177  https://www.fvs.am.gov.br/noticias/noticias_vi...  \n",
       "1178  https://www.fvs.am.gov.br/noticias/noticias_vi...  \n",
       "1179  https://www.fvs.am.gov.br/noticias/noticias_vi...  \n",
       "\n",
       "[1180 rows x 3 columns]"
      ],
      "text/html": "<div>\n<style scoped>\n    .dataframe tbody tr th:only-of-type {\n        vertical-align: middle;\n    }\n\n    .dataframe tbody tr th {\n        vertical-align: top;\n    }\n\n    .dataframe thead th {\n        text-align: right;\n    }\n</style>\n<table border=\"1\" class=\"dataframe\">\n  <thead>\n    <tr style=\"text-align: right;\">\n      <th></th>\n      <th>titulo</th>\n      <th>data</th>\n      <th>link</th>\n    </tr>\n  </thead>\n  <tbody>\n    <tr>\n      <th>0</th>\n      <td>Cenário Epidemiológico da Covid-19 no Amazonas...</td>\n      <td>19 Mai 2021 - 06:30:05</td>\n      <td>https://www.fvs.am.gov.br/noticias/noticias_vi...</td>\n    </tr>\n    <tr>\n      <th>1</th>\n      <td>FVS informa a aplicação de 1.084.463 doses de ...</td>\n      <td>19 Mai 2021 - 06:07:10</td>\n      <td>https://www.fvs.am.gov.br/noticias/noticias_vi...</td>\n    </tr>\n    <tr>\n      <th>2</th>\n      <td>Governo do Amazonas recebe mais 56.060 doses d...</td>\n      <td>19 Mai 2021 - 07:16:24</td>\n      <td>https://www.fvs.am.gov.br/noticias/noticias_vi...</td>\n    </tr>\n    <tr>\n      <th>3</th>\n      <td>Painel de Vacina do Amazonas informa a aplicaç...</td>\n      <td>18 Mai 2021 - 06:34:19</td>\n      <td>https://www.fvs.am.gov.br/noticias/noticias_vi...</td>\n    </tr>\n    <tr>\n      <th>4</th>\n      <td>Situação Epidemiológica da Covid-19 no Amazona...</td>\n      <td>18 Mai 2021 - 06:28:45</td>\n      <td>https://www.fvs.am.gov.br/noticias/noticias_vi...</td>\n    </tr>\n    <tr>\n      <th>...</th>\n      <td>...</td>\n      <td>...</td>\n      <td>...</td>\n    </tr>\n    <tr>\n      <th>1175</th>\n      <td>Amazonas recebe mais 27 mil doses de pentavalente</td>\n      <td>17 Jan 2020 - 07:47:37</td>\n      <td>https://www.fvs.am.gov.br/noticias/noticias_vi...</td>\n    </tr>\n    <tr>\n      <th>1176</th>\n      <td>Em menos de três meses, mais de 80 casos de Sí...</td>\n      <td>17 Jan 2020 - 02:46:10</td>\n      <td>https://www.fvs.am.gov.br/noticias/noticias_vi...</td>\n    </tr>\n    <tr>\n      <th>1177</th>\n      <td>Ministério da Saúde faz alerta sobre febre ama...</td>\n      <td>17 Jan 2020 - 02:38:40</td>\n      <td>https://www.fvs.am.gov.br/noticias/noticias_vi...</td>\n    </tr>\n    <tr>\n      <th>1178</th>\n      <td>Oficina prepara rede de saúde para o enfrentam...</td>\n      <td>17 Jan 2020 - 12:49:21</td>\n      <td>https://www.fvs.am.gov.br/noticias/noticias_vi...</td>\n    </tr>\n    <tr>\n      <th>1179</th>\n      <td>FVS-AM PROMOVE PROGRAMAÇÃO ALUSIVA DEDICADA À ...</td>\n      <td>16 Jan 2020 - 08:04:03</td>\n      <td>https://www.fvs.am.gov.br/noticias/noticias_vi...</td>\n    </tr>\n  </tbody>\n</table>\n<p>1180 rows × 3 columns</p>\n</div>"
     },
     "metadata": {},
     "execution_count": 7
    }
   ],
   "source": [
    "df"
   ]
  },
  {
   "cell_type": "code",
   "execution_count": null,
   "metadata": {},
   "outputs": [],
   "source": []
  }
 ]
}