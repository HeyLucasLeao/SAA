{
 "metadata": {
  "language_info": {
   "codemirror_mode": {
    "name": "ipython",
    "version": 3
   },
   "file_extension": ".py",
   "mimetype": "text/x-python",
   "name": "python",
   "nbconvert_exporter": "python",
   "pygments_lexer": "ipython3",
   "version": "3.7.10"
  },
  "orig_nbformat": 2,
  "kernelspec": {
   "name": "python3710jvsc74a57bd00f1a21781f0e297b3d974d60c0ce5771ba73634914da642de9565f9e3d8e324c",
   "display_name": "Python 3.7.10 64-bit ('noticias-FVS-AM': conda)"
  }
 },
 "nbformat": 4,
 "nbformat_minor": 2,
 "cells": [
  {
   "cell_type": "code",
   "execution_count": 11,
   "metadata": {},
   "outputs": [],
   "source": [
    "import pandas as pd\n",
    "from unidecode import unidecode"
   ]
  },
  {
   "cell_type": "code",
   "execution_count": 2,
   "metadata": {},
   "outputs": [],
   "source": [
    "df = pd.read_json(r'C:\\Users\\heylu\\Documents\\github\\noticias-FVS-AM\\scrapping\\noticias.json', lines=True)"
   ]
  },
  {
   "cell_type": "code",
   "execution_count": 4,
   "metadata": {},
   "outputs": [],
   "source": [
    "def norm_keywords(x):\n",
    "    dici = {\n",
    "        'Febre amarela': ['febre amarela'],\n",
    "        'Cloroquina': ['cloroquina'],\n",
    "        'Dengue': ['aedes', 'aegypti', 'dengue'],\n",
    "        'Vacina para Covid-19': ['vacina', 'dose', 'doses', 'vacinas', 'vacinação', 'vacinaram', 'auditoria', 'já completou 30 municípios', 'imunizados', 'imunização'],\n",
    "        'Pessoas recuperadas': ['recuperados', 'recuperadas', 'neste domingo', 'sexta feira 17 07', 'altas médicas'] ,\n",
    "        'Cenário epidomiológico': ['epidemiológico', 'epidemiológica', 'nesta sexta feira 19', 'amazonas atualizado', 'variantes', 'variante', 'panorama da covid 19', 'reinfecção', 'boletim', 'covid 19 no amazonas', 'situação da', 'municípios', 'estado', 'atualizados', 'amazonas neste', 'nesta quarta feira', 'restrições', 'wilson lima', 'combate ao', 'investigação ao novo coronavírus', 'medidas', 'monitora', 'monitoramento', 'informações oficiais', 'divulgado', 'cenário da covid-19', 'balanco da covid-19', 'enfrentamento a covid-19', 'enfrentamento à covid-19', 'cenário do novo coronavírus', 'atualização da covid-19', 'dados da pandemia'],\n",
    "        'Novos casos de Covid-19': ['total de casos', 'número de casos', 'novos casos', 'confirmados', 'casos', 'amazonas contabiliza', 'amazonas chegam', 'ultrapassam', 'novos dados', 'pessoas', 'caso do novo', 'graves do novo', 'caso de covid-19', 'cenários da covid-19', 'panorama da covid-19', 'taxa de transmissão'],\n",
    "        'Suspeita de Covid-19': ['suspeita', 'suspeito', 'suspeitos', 'dados da covid-19'],\n",
    "        'Testes a Covid-19': ['testes', 'teste', 'dão negativo', 'dão positivo', 'dá positivo', 'dá negativo', 'detecção de covid-19', 'testagem'],\n",
    "        'Prevenção a Covid-19': ['prevenção', 'propagação de covid-19', 'epis', 'enfrentamento a covid-19'],\n",
    "        'Morte por Covid-19': ['mortes por corona virus', 'mortes por covid 19', 'mortes pelo novo corona virus', 'mortes', 'mortos', 'óbitos', 'morte', 'óbito'],\n",
    "        'Influenza': ['influenza'],\n",
    "        'Estabelecimentos, eventos & festas clandestinas': ['estabelecimento', 'estabelecimentos', 'festas', 'bar', 'pessoas na zona', 'bares', 'festa', 'festas', 'clandestinas', 'clandestina', 'pessoas nas ruas', 'supermercados', 'supermercado', 'regionais', 'flagradas', 'flagrado', 'fiscalização', 'locais', 'local', 'bebida', 'bebidas', 'pessoas no', 'protocolo', 'escola', 'escolas', 'professores', 'vistoria', 'vistorias', 'transporte', 'não essenciais', 'não essencial', 'ensino privado', 'restaurantes', 'aglomerações', 'funcionamento de serviços', 'evento', 'eventos'],\n",
    "        'Malária': ['malária', 'mais de 300 pacientes'],\n",
    "        'Tuberculose': ['tuberculose']\n",
    "    }\n",
    "    for key, value in dici.items():\n",
    "        for y in value:\n",
    "            if y in x.lower():\n",
    "                return key\n",
    "    return \" \"\n",
    "    \n",
    "def traduzir_data(x):\n",
    "    dici = {'Jan': '01',\n",
    "    'Fev': '02',\n",
    "    'Mar': '03',\n",
    "    'Abr': '04',\n",
    "    'Mai': '05',\n",
    "    'Jun': '06',\n",
    "    'Jul': '07',\n",
    "    'Ago': '08',\n",
    "    'Set': '09',\n",
    "    'Out': '10',\n",
    "    'Nov': '11',\n",
    "    'Dez': '12'}\n",
    "\n",
    "    x = x.split()\n",
    "    x[1] = dici[x[1]]\n",
    "    return \"-\".join(y for y in x)\n",
    "\n",
    "df['palavra-chave'] = df['titulo'].apply(norm_keywords)\n",
    "df['data'] = [x[:x.index('-') - 1] for x in df['data']]\n",
    "df['data'] = df['data'].apply(traduzir_data)\n",
    "df['data'] = pd.to_datetime(df['data'], format=\"%d-%m-%Y\")\n",
    "df['data'] = df['data'].dt.date\n",
    "df.sort_values('data', inplace=True, ascending=False)\n",
    "df.reset_index(inplace=True)\n",
    "df.drop(columns='index', inplace=True)"
   ]
  },
  {
   "cell_type": "code",
   "execution_count": 5,
   "metadata": {},
   "outputs": [
    {
     "output_type": "execute_result",
     "data": {
      "text/plain": [
       "                                                 titulo        data  \\\n",
       "0     Panorama Epidemiológico da Covid-19 no Amazona...  2021-05-20   \n",
       "1     FVS-AM informa a aplicação de 1.096.097 doses ...  2021-05-20   \n",
       "2     Cenário Epidemiológico da Covid-19 no Amazonas...  2021-05-19   \n",
       "3     Ações de fortalecimento resultam em avanço na ...  2021-05-19   \n",
       "4     FVS informa a aplicação de 1.084.463 doses de ...  2021-05-19   \n",
       "...                                                 ...         ...   \n",
       "1177  Governo do Amazonas prepara campanha de preven...  2020-01-24   \n",
       "1178  ‘Vampirão’ estaciona em shopping de Manaus par...  2020-01-22   \n",
       "1179  Amazonas recebe mais 27 mil doses de pentavalente  2020-01-17   \n",
       "1180  Em menos de três meses, mais de 80 casos de Sí...  2020-01-17   \n",
       "1181  Ministério da Saúde faz alerta sobre febre ama...  2020-01-17   \n",
       "\n",
       "                                              link            palavra-chave  \n",
       "0     https://www.fvs.am.gov.br/noticias_view/4919   Cenário epidomiológico  \n",
       "1     https://www.fvs.am.gov.br/noticias_view/4918     Vacina para Covid-19  \n",
       "2     https://www.fvs.am.gov.br/noticias_view/4916   Cenário epidomiológico  \n",
       "3     https://www.fvs.am.gov.br/noticias_view/4917     Vacina para Covid-19  \n",
       "4     https://www.fvs.am.gov.br/noticias_view/4915     Vacina para Covid-19  \n",
       "...                                            ...                      ...  \n",
       "1177    https://www.fvs.am.gov.br/noticias_view/12     Prevenção a Covid-19  \n",
       "1178    https://www.fvs.am.gov.br/noticias_view/13                           \n",
       "1179    https://www.fvs.am.gov.br/noticias_view/14     Vacina para Covid-19  \n",
       "1180    https://www.fvs.am.gov.br/noticias_view/15  Novos casos de Covid-19  \n",
       "1181    https://www.fvs.am.gov.br/noticias_view/16            Febre amarela  \n",
       "\n",
       "[1182 rows x 4 columns]"
      ],
      "text/html": "<div>\n<style scoped>\n    .dataframe tbody tr th:only-of-type {\n        vertical-align: middle;\n    }\n\n    .dataframe tbody tr th {\n        vertical-align: top;\n    }\n\n    .dataframe thead th {\n        text-align: right;\n    }\n</style>\n<table border=\"1\" class=\"dataframe\">\n  <thead>\n    <tr style=\"text-align: right;\">\n      <th></th>\n      <th>titulo</th>\n      <th>data</th>\n      <th>link</th>\n      <th>palavra-chave</th>\n    </tr>\n  </thead>\n  <tbody>\n    <tr>\n      <th>0</th>\n      <td>Panorama Epidemiológico da Covid-19 no Amazona...</td>\n      <td>2021-05-20</td>\n      <td>https://www.fvs.am.gov.br/noticias_view/4919</td>\n      <td>Cenário epidomiológico</td>\n    </tr>\n    <tr>\n      <th>1</th>\n      <td>FVS-AM informa a aplicação de 1.096.097 doses ...</td>\n      <td>2021-05-20</td>\n      <td>https://www.fvs.am.gov.br/noticias_view/4918</td>\n      <td>Vacina para Covid-19</td>\n    </tr>\n    <tr>\n      <th>2</th>\n      <td>Cenário Epidemiológico da Covid-19 no Amazonas...</td>\n      <td>2021-05-19</td>\n      <td>https://www.fvs.am.gov.br/noticias_view/4916</td>\n      <td>Cenário epidomiológico</td>\n    </tr>\n    <tr>\n      <th>3</th>\n      <td>Ações de fortalecimento resultam em avanço na ...</td>\n      <td>2021-05-19</td>\n      <td>https://www.fvs.am.gov.br/noticias_view/4917</td>\n      <td>Vacina para Covid-19</td>\n    </tr>\n    <tr>\n      <th>4</th>\n      <td>FVS informa a aplicação de 1.084.463 doses de ...</td>\n      <td>2021-05-19</td>\n      <td>https://www.fvs.am.gov.br/noticias_view/4915</td>\n      <td>Vacina para Covid-19</td>\n    </tr>\n    <tr>\n      <th>...</th>\n      <td>...</td>\n      <td>...</td>\n      <td>...</td>\n      <td>...</td>\n    </tr>\n    <tr>\n      <th>1177</th>\n      <td>Governo do Amazonas prepara campanha de preven...</td>\n      <td>2020-01-24</td>\n      <td>https://www.fvs.am.gov.br/noticias_view/12</td>\n      <td>Prevenção a Covid-19</td>\n    </tr>\n    <tr>\n      <th>1178</th>\n      <td>‘Vampirão’ estaciona em shopping de Manaus par...</td>\n      <td>2020-01-22</td>\n      <td>https://www.fvs.am.gov.br/noticias_view/13</td>\n      <td></td>\n    </tr>\n    <tr>\n      <th>1179</th>\n      <td>Amazonas recebe mais 27 mil doses de pentavalente</td>\n      <td>2020-01-17</td>\n      <td>https://www.fvs.am.gov.br/noticias_view/14</td>\n      <td>Vacina para Covid-19</td>\n    </tr>\n    <tr>\n      <th>1180</th>\n      <td>Em menos de três meses, mais de 80 casos de Sí...</td>\n      <td>2020-01-17</td>\n      <td>https://www.fvs.am.gov.br/noticias_view/15</td>\n      <td>Novos casos de Covid-19</td>\n    </tr>\n    <tr>\n      <th>1181</th>\n      <td>Ministério da Saúde faz alerta sobre febre ama...</td>\n      <td>2020-01-17</td>\n      <td>https://www.fvs.am.gov.br/noticias_view/16</td>\n      <td>Febre amarela</td>\n    </tr>\n  </tbody>\n</table>\n<p>1182 rows × 4 columns</p>\n</div>"
     },
     "metadata": {},
     "execution_count": 5
    }
   ],
   "source": [
    "def search_words(x):\n",
    "    dataset = df['titulo'].apply(unidecode).copy()\n",
    "    dataset = dataset.apply(lower)\n",
    "    x = unidecode(x)\n",
    "    x = x.lower()\n",
    "    res = []\n",
    "    for i in range(len(dataset)):\n",
    "        if x in dataset[i]:\n",
    "            res.append(i)\n",
    "    \n",
    "    return \n",
    "            \n"
   ]
  },
  {
   "cell_type": "code",
   "execution_count": 27,
   "metadata": {},
   "outputs": [
    {
     "output_type": "error",
     "ename": "IndexingError",
     "evalue": "Too many indexers",
     "traceback": [
      "\u001b[1;31m---------------------------------------------------------------------------\u001b[0m",
      "\u001b[1;31mIndexingError\u001b[0m                             Traceback (most recent call last)",
      "\u001b[1;32m<ipython-input-27-e2e2775b3121>\u001b[0m in \u001b[0;36m<module>\u001b[1;34m\u001b[0m\n\u001b[1;32m----> 1\u001b[1;33m \u001b[0mdf\u001b[0m\u001b[1;33m[\u001b[0m\u001b[1;34m'titulo'\u001b[0m\u001b[1;33m]\u001b[0m\u001b[1;33m.\u001b[0m\u001b[0mloc\u001b[0m\u001b[1;33m[\u001b[0m\u001b[1;36m0\u001b[0m\u001b[1;33m,\u001b[0m \u001b[1;36m1\u001b[0m\u001b[1;33m]\u001b[0m\u001b[1;33m\u001b[0m\u001b[1;33m\u001b[0m\u001b[0m\n\u001b[0m",
      "\u001b[1;32m~\\miniconda3\\envs\\noticias-fvs-am\\lib\\site-packages\\pandas\\core\\indexing.py\u001b[0m in \u001b[0;36m__getitem__\u001b[1;34m(self, key)\u001b[0m\n\u001b[0;32m    887\u001b[0m                     \u001b[1;31m# AttributeError for IntervalTree get_value\u001b[0m\u001b[1;33m\u001b[0m\u001b[1;33m\u001b[0m\u001b[1;33m\u001b[0m\u001b[0m\n\u001b[0;32m    888\u001b[0m                     \u001b[1;32mreturn\u001b[0m \u001b[0mself\u001b[0m\u001b[1;33m.\u001b[0m\u001b[0mobj\u001b[0m\u001b[1;33m.\u001b[0m\u001b[0m_get_value\u001b[0m\u001b[1;33m(\u001b[0m\u001b[1;33m*\u001b[0m\u001b[0mkey\u001b[0m\u001b[1;33m,\u001b[0m \u001b[0mtakeable\u001b[0m\u001b[1;33m=\u001b[0m\u001b[0mself\u001b[0m\u001b[1;33m.\u001b[0m\u001b[0m_takeable\u001b[0m\u001b[1;33m)\u001b[0m\u001b[1;33m\u001b[0m\u001b[1;33m\u001b[0m\u001b[0m\n\u001b[1;32m--> 889\u001b[1;33m             \u001b[1;32mreturn\u001b[0m \u001b[0mself\u001b[0m\u001b[1;33m.\u001b[0m\u001b[0m_getitem_tuple\u001b[0m\u001b[1;33m(\u001b[0m\u001b[0mkey\u001b[0m\u001b[1;33m)\u001b[0m\u001b[1;33m\u001b[0m\u001b[1;33m\u001b[0m\u001b[0m\n\u001b[0m\u001b[0;32m    890\u001b[0m         \u001b[1;32melse\u001b[0m\u001b[1;33m:\u001b[0m\u001b[1;33m\u001b[0m\u001b[1;33m\u001b[0m\u001b[0m\n\u001b[0;32m    891\u001b[0m             \u001b[1;31m# we by definition only have the 0th axis\u001b[0m\u001b[1;33m\u001b[0m\u001b[1;33m\u001b[0m\u001b[1;33m\u001b[0m\u001b[0m\n",
      "\u001b[1;32m~\\miniconda3\\envs\\noticias-fvs-am\\lib\\site-packages\\pandas\\core\\indexing.py\u001b[0m in \u001b[0;36m_getitem_tuple\u001b[1;34m(self, tup)\u001b[0m\n\u001b[0;32m   1061\u001b[0m \u001b[1;33m\u001b[0m\u001b[0m\n\u001b[0;32m   1062\u001b[0m         \u001b[1;31m# no multi-index, so validate all of the indexers\u001b[0m\u001b[1;33m\u001b[0m\u001b[1;33m\u001b[0m\u001b[1;33m\u001b[0m\u001b[0m\n\u001b[1;32m-> 1063\u001b[1;33m         \u001b[0mself\u001b[0m\u001b[1;33m.\u001b[0m\u001b[0m_has_valid_tuple\u001b[0m\u001b[1;33m(\u001b[0m\u001b[0mtup\u001b[0m\u001b[1;33m)\u001b[0m\u001b[1;33m\u001b[0m\u001b[1;33m\u001b[0m\u001b[0m\n\u001b[0m\u001b[0;32m   1064\u001b[0m \u001b[1;33m\u001b[0m\u001b[0m\n\u001b[0;32m   1065\u001b[0m         \u001b[1;31m# ugly hack for GH #836\u001b[0m\u001b[1;33m\u001b[0m\u001b[1;33m\u001b[0m\u001b[1;33m\u001b[0m\u001b[0m\n",
      "\u001b[1;32m~\\miniconda3\\envs\\noticias-fvs-am\\lib\\site-packages\\pandas\\core\\indexing.py\u001b[0m in \u001b[0;36m_has_valid_tuple\u001b[1;34m(self, key)\u001b[0m\n\u001b[0;32m    718\u001b[0m         \u001b[0mCheck\u001b[0m \u001b[0mthe\u001b[0m \u001b[0mkey\u001b[0m \u001b[1;32mfor\u001b[0m \u001b[0mvalid\u001b[0m \u001b[0mkeys\u001b[0m \u001b[0macross\u001b[0m \u001b[0mmy\u001b[0m \u001b[0mindexer\u001b[0m\u001b[1;33m.\u001b[0m\u001b[1;33m\u001b[0m\u001b[1;33m\u001b[0m\u001b[0m\n\u001b[0;32m    719\u001b[0m         \"\"\"\n\u001b[1;32m--> 720\u001b[1;33m         \u001b[0mself\u001b[0m\u001b[1;33m.\u001b[0m\u001b[0m_validate_key_length\u001b[0m\u001b[1;33m(\u001b[0m\u001b[0mkey\u001b[0m\u001b[1;33m)\u001b[0m\u001b[1;33m\u001b[0m\u001b[1;33m\u001b[0m\u001b[0m\n\u001b[0m\u001b[0;32m    721\u001b[0m         \u001b[1;32mfor\u001b[0m \u001b[0mi\u001b[0m\u001b[1;33m,\u001b[0m \u001b[0mk\u001b[0m \u001b[1;32min\u001b[0m \u001b[0menumerate\u001b[0m\u001b[1;33m(\u001b[0m\u001b[0mkey\u001b[0m\u001b[1;33m)\u001b[0m\u001b[1;33m:\u001b[0m\u001b[1;33m\u001b[0m\u001b[1;33m\u001b[0m\u001b[0m\n\u001b[0;32m    722\u001b[0m             \u001b[1;32mtry\u001b[0m\u001b[1;33m:\u001b[0m\u001b[1;33m\u001b[0m\u001b[1;33m\u001b[0m\u001b[0m\n",
      "\u001b[1;32m~\\miniconda3\\envs\\noticias-fvs-am\\lib\\site-packages\\pandas\\core\\indexing.py\u001b[0m in \u001b[0;36m_validate_key_length\u001b[1;34m(self, key)\u001b[0m\n\u001b[0;32m    759\u001b[0m     \u001b[1;32mdef\u001b[0m \u001b[0m_validate_key_length\u001b[0m\u001b[1;33m(\u001b[0m\u001b[0mself\u001b[0m\u001b[1;33m,\u001b[0m \u001b[0mkey\u001b[0m\u001b[1;33m:\u001b[0m \u001b[0mSequence\u001b[0m\u001b[1;33m[\u001b[0m\u001b[0mAny\u001b[0m\u001b[1;33m]\u001b[0m\u001b[1;33m)\u001b[0m \u001b[1;33m->\u001b[0m \u001b[1;32mNone\u001b[0m\u001b[1;33m:\u001b[0m\u001b[1;33m\u001b[0m\u001b[1;33m\u001b[0m\u001b[0m\n\u001b[0;32m    760\u001b[0m         \u001b[1;32mif\u001b[0m \u001b[0mlen\u001b[0m\u001b[1;33m(\u001b[0m\u001b[0mkey\u001b[0m\u001b[1;33m)\u001b[0m \u001b[1;33m>\u001b[0m \u001b[0mself\u001b[0m\u001b[1;33m.\u001b[0m\u001b[0mndim\u001b[0m\u001b[1;33m:\u001b[0m\u001b[1;33m\u001b[0m\u001b[1;33m\u001b[0m\u001b[0m\n\u001b[1;32m--> 761\u001b[1;33m             \u001b[1;32mraise\u001b[0m \u001b[0mIndexingError\u001b[0m\u001b[1;33m(\u001b[0m\u001b[1;34m\"Too many indexers\"\u001b[0m\u001b[1;33m)\u001b[0m\u001b[1;33m\u001b[0m\u001b[1;33m\u001b[0m\u001b[0m\n\u001b[0m\u001b[0;32m    762\u001b[0m \u001b[1;33m\u001b[0m\u001b[0m\n\u001b[0;32m    763\u001b[0m     \u001b[1;32mdef\u001b[0m \u001b[0m_getitem_tuple_same_dim\u001b[0m\u001b[1;33m(\u001b[0m\u001b[0mself\u001b[0m\u001b[1;33m,\u001b[0m \u001b[0mtup\u001b[0m\u001b[1;33m:\u001b[0m \u001b[0mTuple\u001b[0m\u001b[1;33m)\u001b[0m\u001b[1;33m:\u001b[0m\u001b[1;33m\u001b[0m\u001b[1;33m\u001b[0m\u001b[0m\n",
      "\u001b[1;31mIndexingError\u001b[0m: Too many indexers"
     ]
    }
   ],
   "source": [
    "df['titulo'].loc[0, 1]"
   ]
  },
  {
   "cell_type": "code",
   "execution_count": null,
   "metadata": {},
   "outputs": [],
   "source": []
  }
 ]
}